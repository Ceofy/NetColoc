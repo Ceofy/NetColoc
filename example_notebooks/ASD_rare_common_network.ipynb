{
 "cells": [
  {
   "cell_type": "markdown",
   "metadata": {},
   "source": [
    "# NetColoc analysis of rare and common variants in Autism spectrum disorder (ASD)\n",
    "\n",
    "Example of NetColoc workflow on genes associated with rare and common variants in autism.\n",
    "\n",
    "**Some background:**\n",
    "\n",
    "Here we introduce NetColoc, a tool which evaluates the extent to which two gene sets are related in network space, i.e. the extent to which they are colocalized in a molecular interaction network, and interrogates the underlying biological pathways and processes using multiscale community detection. This framework may be applied to any number of scenarios in which gene sets have been associated with a phenotype or condition, including rare and common variants within the same disease, genes associated with two comorbid diseases, genetically correlated GWAS phenotypes, GWAS across two different species, or gene expression changes after treatment with two different drugs, to name a few. NetColoc relies on a dual network propagation approach to identify the region of network space which is significantly proximal to both input gene sets, and as such is highly effective for small to medium input gene sets\n"
   ]
  },
  {
   "cell_type": "code",
   "execution_count": 1,
   "metadata": {},
   "outputs": [],
   "source": [
    "# load required packages\n",
    "\n",
    "import numpy as np\n",
    "import matplotlib.pyplot as plt\n",
    "import seaborn as sns\n",
    "import networkx as nx\n",
    "import pandas as pd\n",
    "import random\n",
    "\n",
    "from IPython.display import display\n",
    "\n",
    "import getpass\n",
    "import ndex2\n",
    "\n",
    "# latex rendering of text in graphs\n",
    "import matplotlib as mpl\n",
    "mpl.rc('text', usetex = False)\n",
    "mpl.rc('font', family = 'serif')\n",
    "\n",
    "from matplotlib import rcParams\n",
    "rcParams['font.family'] = 'sans-serif'\n",
    "rcParams['font.sans-serif'] = ['Arial']\n",
    "\n",
    "sns.set(font_scale=1.4)\n",
    "\n",
    "sns.set_style('white')\n",
    "\n",
    "sns.set_style(\"ticks\", {\"xtick.major.size\": 15, \"ytick.major.size\": 15})\n",
    "plt.rcParams['svg.fonttype'] = 'none'\n",
    "\n",
    "import sys\n",
    "\n",
    "# % matplotlib inline"
   ]
  },
  {
   "cell_type": "code",
   "execution_count": 2,
   "metadata": {},
   "outputs": [
    {
     "data": {
      "text/plain": [
       "<module 'network_colocalization' from '../netcoloc/network_colocalization.py'>"
      ]
     },
     "execution_count": 2,
     "metadata": {},
     "output_type": "execute_result"
    }
   ],
   "source": [
    "import sys\n",
    "sys.path.append('../netcoloc/')\n",
    "\n",
    "import netprop_zscore\n",
    "import netprop\n",
    "import network_colocalization\n",
    "\n",
    "import imp\n",
    "imp.reload(netprop_zscore)\n",
    "imp.reload(netprop)\n",
    "imp.reload(network_colocalization)"
   ]
  },
  {
   "cell_type": "code",
   "execution_count": 3,
   "metadata": {},
   "outputs": [
    {
     "data": {
      "text/plain": [
       "'2.5.1'"
      ]
     },
     "execution_count": 3,
     "metadata": {},
     "output_type": "execute_result"
    }
   ],
   "source": [
    "nx.__version__"
   ]
  },
  {
   "cell_type": "markdown",
   "metadata": {},
   "source": [
    "# 1. Load two gene sets of interest\n",
    "\n",
    "\n",
    "Identify two gene sets of interest. Gene sets should come from experimental data (not manual curation) to avoid bias. For example, genes associated with significant loci from GWAS (common variants). Summary statistics are readily available for most GWAS. We note there are existing methods to map summary statistics to corresponding genes (REFS MAGMA, TWAS/PREDIXCAN/ FUMA/ PASCAL, etc). In our work we use the PASCAL algorithm (https://journals.plos.org/ploscompbiol/article?id=10.1371/journal.pcbi.1004714), a positional mapper which accounts for linkage disequilibrium. Another example is genes associated with damaging variants from case-control studies in exome sequencing (rare variants). There exist well established pipelines for identifying deleterious variants in exome sequencing (REFS). In this case the variant-gene mapping is trivial because all variants are by definition found within the gene body. In practice, less than 500 genes work best as input to NetColoc, because of sampling issues.\n",
    "\n",
    "**Usage Note**: gene sets should be < 500 genes (propagation algorithm breaks down if seeded with larger sets). If your gene set is larger, only use the top 500 as seeds to the network propagation.\n",
    "\n"
   ]
  },
  {
   "cell_type": "code",
   "execution_count": 18,
   "metadata": {},
   "outputs": [
    {
     "name": "stdout",
     "output_type": "stream",
     "text": [
      "number rare genes:\n",
      "102\n",
      "['CHD8', 'SCN2A', 'SYNGAP1', 'ADNP', 'FOXP1']\n"
     ]
    }
   ],
   "source": [
    "# load rare variants (from https://www.sciencedirect.com/science/article/abs/pii/S0092867419313984)\n",
    "\n",
    "ASD_rare_df = pd.read_csv('../docs/data/HC_genes/Satterstrom--Top-102-ASD-genes--May2019.csv')\n",
    "ASD_rare_df.index = ASD_rare_df['gene']\n",
    "print('number rare genes:')\n",
    "print(len(ASD_rare_df))\n",
    "ASD_rare_genes = ASD_rare_df.index.tolist() # define rare variant genes to seed network propagation\n",
    "print(ASD_rare_genes[0:5])"
   ]
  },
  {
   "cell_type": "code",
   "execution_count": 19,
   "metadata": {},
   "outputs": [
    {
     "name": "stdout",
     "output_type": "stream",
     "text": [
      "number common genes:\n",
      "45\n",
      "['NTM', 'PLEKHM1', 'LRRC37A4P', 'LOC644172', 'CRHR1']\n"
     ]
    }
   ],
   "source": [
    "# load common variant genes (ASD summary stats from LINK, mapped using PASCAL)\n",
    "ASD_common_df = pd.read_csv('../docs/data/HC_genes/ASD_sumstats_pascal.sum.genescores.txt',sep='\\t')\n",
    "pthresh = 1E-4 # set p-value cutoff for common variant genes\n",
    "ASD_common_genes = ASD_common_df[ASD_common_df['pvalue'] < pthresh]['gene_symbol'].tolist()\n",
    "print('number common genes:')\n",
    "print(len(ASD_common_genes))\n",
    "print(ASD_common_genes[0:5])\n"
   ]
  },
  {
   "cell_type": "code",
   "execution_count": 20,
   "metadata": {},
   "outputs": [
    {
     "name": "stdout",
     "output_type": "stream",
     "text": [
      "number of rare and common genes overlapping:\n",
      "0\n"
     ]
    }
   ],
   "source": [
    "# how much overlap between gene sets?\n",
    "print('number of rare and common genes overlapping:')\n",
    "print(len(np.intersect1d(ASD_common_genes,ASD_rare_genes)))"
   ]
  },
  {
   "cell_type": "markdown",
   "metadata": {},
   "source": [
    "# 2. Load interactome\n",
    "\n",
    "**Coverage**. Larger, denser interactomes will be more inclusive and be amenable to creating more granular models. Human curated interactomes are smaller, sparser and are biased towards known biology. Many, however, have richer descriptions of the relationships. Data derived interactomes based on specific projects have the advantage that the experimental context is well-defined and consistent.  \n",
    "\n",
    "\n",
    "**Interaction Types**. The edges that were useful in computing the coloc may not be useful for interpretation. For example, the edges in PCNet are not typed. For purposes of interpretation we need to know how the genes relate to each other. Further, we are best able to understand physical interactions, and so it may be most useful to review the nodes in a community or other subnetwork using a protein-protein interactome, or at least one in which the edges can be filtered when needed.\n",
    "\n",
    "**Net recommendation**: use an inclusive interactome for generating the model but then annotate subsystem networks with relationships derived from richer, if less comprehensive, sources. Or from sources specifically relevant to the experimental context.\n",
    "\n",
    "\n",
    "**Usage note**: PCnet is a general purpose interactome, a good starting place https://www.sciencedirect.com/science/article/pii/S2405471218300954"
   ]
  },
  {
   "cell_type": "code",
   "execution_count": 7,
   "metadata": {},
   "outputs": [
    {
     "name": "stdout",
     "output_type": "stream",
     "text": [
      "number of nodes:\n",
      "17185\n",
      "\n",
      "number of edges:\n",
      "420534\n"
     ]
    }
   ],
   "source": [
    "\n",
    "# interactome_uuid='4de852d9-9908-11e9-bcaf-0ac135e8bacf' # for PCNet\n",
    "interactome_uuid='275bd84e-3d18-11e8-a935-0ac135e8bacf' # for STRING high confidence\n",
    "ndex_server='public.ndexbio.org'\n",
    "ndex_user=None\n",
    "ndex_password=None\n",
    "G_int = ndex2.create_nice_cx_from_server(\n",
    "            ndex_server, \n",
    "            username=ndex_user, \n",
    "            password=ndex_password, \n",
    "            uuid=interactome_uuid\n",
    "        ).to_networkx()\n",
    "nodes = list(G_int.nodes)\n",
    "\n",
    "# print out interactome num nodes and edges for diagnostic purposes\n",
    "print('number of nodes:')\n",
    "print(len(G_int.nodes))\n",
    "print('\\nnumber of edges:')\n",
    "print(len(G_int.edges))"
   ]
  },
  {
   "cell_type": "code",
   "execution_count": 8,
   "metadata": {},
   "outputs": [],
   "source": [
    "int_nodes = list(G_int.nodes)"
   ]
  },
  {
   "cell_type": "markdown",
   "metadata": {},
   "source": [
    "# 3. Network co-localization\n",
    "\n",
    "Network propagation from genes on selected interactome\n",
    "- Control for degree of input genes\n",
    "- Generate a proximity z-score, which defines genes which are closer to input set than expected by chance.\n",
    "- Repeat for rare and common variant genes, defined above\n",
    "\n",
    "Background on network propagation: https://www.nature.com/articles/nrg.2017.38.pdf?origin=ppub\n"
   ]
  },
  {
   "cell_type": "code",
   "execution_count": 9,
   "metadata": {},
   "outputs": [
    {
     "name": "stdout",
     "output_type": "stream",
     "text": [
      "\n",
      "calculating w_prime\n",
      "\n",
      "calculating w_double_prime\n"
     ]
    }
   ],
   "source": [
    "# pre calculate mats used for netprop... this step takes a few minutes, more for denser interactomes\n",
    "print('\\ncalculating w_prime')\n",
    "w_prime = netprop.get_normalized_adjacency_matrix(G_int, conserve_heat=True)\n",
    "\n",
    "print('\\ncalculating w_double_prime')\n",
    "w_double_prime = netprop.get_individual_heats_matrix(w_prime, .5)"
   ]
  },
  {
   "cell_type": "code",
   "execution_count": 21,
   "metadata": {},
   "outputs": [
    {
     "name": "stdout",
     "output_type": "stream",
     "text": [
      "102\n",
      "98\n",
      "45\n",
      "30\n"
     ]
    }
   ],
   "source": [
    "# subset seed genes to those found in interactome\n",
    "print(len(ASD_rare_genes))\n",
    "ASD_rare_genes = list(np.intersect1d(ASD_rare_genes,int_nodes))\n",
    "print(len(ASD_rare_genes))\n",
    "\n",
    "print(len(ASD_common_genes))\n",
    "ASD_common_genes = list(np.intersect1d(ASD_common_genes,int_nodes))\n",
    "print(len(ASD_common_genes))\n"
   ]
  },
  {
   "cell_type": "code",
   "execution_count": 22,
   "metadata": {},
   "outputs": [
    {
     "name": "stdout",
     "output_type": "stream",
     "text": [
      "\n",
      "Calculating rare variant z-scores: \n"
     ]
    },
    {
     "data": {
      "application/vnd.jupyter.widget-view+json": {
       "model_id": "4e695da5a83a42759e13f428ca41fc9d",
       "version_major": 2,
       "version_minor": 0
      },
      "text/plain": [
       "  0%|          | 0/100 [00:00<?, ?it/s]"
      ]
     },
     "metadata": {},
     "output_type": "display_data"
    },
    {
     "name": "stderr",
     "output_type": "stream",
     "text": [
      "/Library/Frameworks/Python.framework/Versions/3.8/lib/python3.8/site-packages/pandas/core/arraylike.py:358: RuntimeWarning: divide by zero encountered in log\n",
      "  result = getattr(ufunc, method)(*inputs, **kwargs)\n",
      "../netcoloc/netprop_zscore.py:242: RuntimeWarning: divide by zero encountered in log\n",
      "  z_scores = (np.log(final_heat) - np.nanmean(np.log(random_final_heats), axis=0)) / np.nanstd(np.log(random_final_heats), axis=0)\n",
      "/Library/Frameworks/Python.framework/Versions/3.8/lib/python3.8/site-packages/numpy/lib/nanfunctions.py:1539: RuntimeWarning: invalid value encountered in subtract\n",
      "  np.subtract(arr, avg, out=arr, casting='unsafe')\n"
     ]
    },
    {
     "data": {
      "text/html": [
       "<div>\n",
       "<style scoped>\n",
       "    .dataframe tbody tr th:only-of-type {\n",
       "        vertical-align: middle;\n",
       "    }\n",
       "\n",
       "    .dataframe tbody tr th {\n",
       "        vertical-align: top;\n",
       "    }\n",
       "\n",
       "    .dataframe thead th {\n",
       "        text-align: right;\n",
       "    }\n",
       "</style>\n",
       "<table border=\"1\" class=\"dataframe\">\n",
       "  <thead>\n",
       "    <tr style=\"text-align: right;\">\n",
       "      <th></th>\n",
       "      <th>z</th>\n",
       "    </tr>\n",
       "  </thead>\n",
       "  <tbody>\n",
       "    <tr>\n",
       "      <th>DIP2A</th>\n",
       "      <td>11.840699</td>\n",
       "    </tr>\n",
       "    <tr>\n",
       "      <th>PHF2</th>\n",
       "      <td>11.265714</td>\n",
       "    </tr>\n",
       "    <tr>\n",
       "      <th>BCL11A</th>\n",
       "      <td>10.476841</td>\n",
       "    </tr>\n",
       "    <tr>\n",
       "      <th>KMT2E</th>\n",
       "      <td>10.409355</td>\n",
       "    </tr>\n",
       "    <tr>\n",
       "      <th>ASXL3</th>\n",
       "      <td>10.354350</td>\n",
       "    </tr>\n",
       "  </tbody>\n",
       "</table>\n",
       "</div>"
      ],
      "text/plain": [
       "                z\n",
       "DIP2A   11.840699\n",
       "PHF2    11.265714\n",
       "BCL11A  10.476841\n",
       "KMT2E   10.409355\n",
       "ASXL3   10.354350"
      ]
     },
     "execution_count": 22,
     "metadata": {},
     "output_type": "execute_result"
    }
   ],
   "source": [
    "# Rare variant netprop\n",
    "print('\\nCalculating rare variant z-scores: ')\n",
    "z_rare, Fnew_rare, Fnew_rand_rare = netprop_zscore.calculate_heat_zscores(w_double_prime, int_nodes, \n",
    "                                                                    dict(G_int.degree), \n",
    "                                                                    ASD_rare_genes, num_reps=100,\n",
    "                                                                    minimum_bin_size=100)\n",
    "\n",
    "z_rare = pd.DataFrame({'z':z_rare})\n",
    "\n",
    "z_rare.sort_values('z',ascending=False).head()"
   ]
  },
  {
   "cell_type": "code",
   "execution_count": 23,
   "metadata": {},
   "outputs": [
    {
     "name": "stdout",
     "output_type": "stream",
     "text": [
      "\n",
      "Calculating common variant z-scores: \n"
     ]
    },
    {
     "data": {
      "application/vnd.jupyter.widget-view+json": {
       "model_id": "88eadd1276e548ba8cf23f7dba559599",
       "version_major": 2,
       "version_minor": 0
      },
      "text/plain": [
       "  0%|          | 0/100 [00:00<?, ?it/s]"
      ]
     },
     "metadata": {},
     "output_type": "display_data"
    },
    {
     "name": "stderr",
     "output_type": "stream",
     "text": [
      "/Library/Frameworks/Python.framework/Versions/3.8/lib/python3.8/site-packages/pandas/core/arraylike.py:358: RuntimeWarning: divide by zero encountered in log\n",
      "  result = getattr(ufunc, method)(*inputs, **kwargs)\n",
      "../netcoloc/netprop_zscore.py:242: RuntimeWarning: divide by zero encountered in log\n",
      "  z_scores = (np.log(final_heat) - np.nanmean(np.log(random_final_heats), axis=0)) / np.nanstd(np.log(random_final_heats), axis=0)\n",
      "/Library/Frameworks/Python.framework/Versions/3.8/lib/python3.8/site-packages/numpy/lib/nanfunctions.py:1539: RuntimeWarning: invalid value encountered in subtract\n",
      "  np.subtract(arr, avg, out=arr, casting='unsafe')\n"
     ]
    },
    {
     "data": {
      "text/html": [
       "<div>\n",
       "<style scoped>\n",
       "    .dataframe tbody tr th:only-of-type {\n",
       "        vertical-align: middle;\n",
       "    }\n",
       "\n",
       "    .dataframe tbody tr th {\n",
       "        vertical-align: top;\n",
       "    }\n",
       "\n",
       "    .dataframe thead th {\n",
       "        text-align: right;\n",
       "    }\n",
       "</style>\n",
       "<table border=\"1\" class=\"dataframe\">\n",
       "  <thead>\n",
       "    <tr style=\"text-align: right;\">\n",
       "      <th></th>\n",
       "      <th>z</th>\n",
       "    </tr>\n",
       "  </thead>\n",
       "  <tbody>\n",
       "    <tr>\n",
       "      <th>NKX2-4</th>\n",
       "      <td>13.488060</td>\n",
       "    </tr>\n",
       "    <tr>\n",
       "      <th>SOX7</th>\n",
       "      <td>11.547688</td>\n",
       "    </tr>\n",
       "    <tr>\n",
       "      <th>ARL17A</th>\n",
       "      <td>11.203731</td>\n",
       "    </tr>\n",
       "    <tr>\n",
       "      <th>RP1L1</th>\n",
       "      <td>10.794935</td>\n",
       "    </tr>\n",
       "    <tr>\n",
       "      <th>SLC35G5</th>\n",
       "      <td>10.543575</td>\n",
       "    </tr>\n",
       "  </tbody>\n",
       "</table>\n",
       "</div>"
      ],
      "text/plain": [
       "                 z\n",
       "NKX2-4   13.488060\n",
       "SOX7     11.547688\n",
       "ARL17A   11.203731\n",
       "RP1L1    10.794935\n",
       "SLC35G5  10.543575"
      ]
     },
     "execution_count": 23,
     "metadata": {},
     "output_type": "execute_result"
    }
   ],
   "source": [
    "# common variant netprop\n",
    "print('\\nCalculating common variant z-scores: ')\n",
    "z_common, Fnew_common, Fnew_rand_common = netprop_zscore.calculate_heat_zscores(w_double_prime, int_nodes, \n",
    "                                                                    dict(G_int.degree), \n",
    "                                                                    ASD_common_genes, num_reps=100,\n",
    "                                                                    minimum_bin_size=100)\n",
    "\n",
    "z_common = pd.DataFrame({'z':z_common})\n",
    "z_common.sort_values('z',ascending=False).head()"
   ]
  },
  {
   "cell_type": "markdown",
   "metadata": {},
   "source": [
    "## calculate size of network overlap, and compare to expected size\n",
    "\n",
    "\n",
    "Size of network co-localization subgraph compared to null model created by permuting individual propagation z-scores. \n",
    "\n",
    "\n",
    "Note: seed genes are excluded from this calculation\n",
    "\n"
   ]
  },
  {
   "cell_type": "code",
   "execution_count": 24,
   "metadata": {},
   "outputs": [
    {
     "name": "stdout",
     "output_type": "stream",
     "text": [
      "ASD_rare + ASD_common\n",
      "size of network intersection = 318\n",
      "observed size/ expected size = 1.5130608554979303\n",
      "p = 4.722480583703022e-15\n"
     ]
    }
   ],
   "source": [
    "from scipy.stats import hypergeom\n",
    "from scipy.stats import norm\n",
    "\n",
    "# ------ customize this section based on your gene sets and how they should be labeled -------\n",
    "z_dict = {'ASD_rare':z_rare,'ASD_common':z_common}\n",
    "d1='ASD_rare'\n",
    "d2='ASD_common'\n",
    "\n",
    "seed_dict = {'ASD_rare':ASD_rare_genes,'ASD_common':ASD_common_genes}\n",
    "# --------------------------------------------------------------------------------------------\n",
    "\n",
    "zthresh=3\n",
    "\n",
    "z_d1d2_size, high_z_rand = network_colocalization.calculate_expected_overlap(\n",
    "    z_rare['z'],\n",
    "    z_common['z'],\n",
    "    plot=False,\n",
    "    num_reps=100,\n",
    "    z_score_threshold=zthresh,\n",
    "    z1_threshold=1,\n",
    "    z2_threshold=1\n",
    ")\n",
    "\n",
    "ztemp = (z_d1d2_size - np.mean(high_z_rand)) / np.std(high_z_rand)\n",
    "ptemp = norm.sf(ztemp)\n",
    "print(d1 + ' + ' + d2)\n",
    "print('size of network intersection = ' + str(z_d1d2_size))\n",
    "obs_exp_temp = float(z_d1d2_size) / np.mean(high_z_rand)\n",
    "print('observed size/ expected size = ' + str(obs_exp_temp))\n",
    "print('p = ' + str(ptemp))\n",
    "\n",
    "# save the num overlap and overlap p-val\n",
    "network_num_overlap = z_d1d2_size\n",
    "network_pval_overlap = ptemp\n",
    "network_obs_exp = obs_exp_temp\n",
    "network_exp_mean_overlap = np.mean(high_z_rand)\n",
    "network_exp_std_overlap = np.std(high_z_rand)\n"
   ]
  },
  {
   "cell_type": "code",
   "execution_count": 25,
   "metadata": {
    "scrolled": false
   },
   "outputs": [
    {
     "data": {
      "text/plain": [
       "(-0.5, 0.5)"
      ]
     },
     "execution_count": 25,
     "metadata": {},
     "output_type": "execute_result"
    },
    {
     "data": {
      "image/png": "[encoded data removed]",
      "text/plain": [
       "<Figure size 144x216 with 1 Axes>"
      ]
     },
     "metadata": {},
     "output_type": "display_data"
    }
   ],
   "source": [
    "# plot the overlap +- 95% CI\n",
    "xlabels = [d1 + '-' + d2]\n",
    "observed_overlap_list = [network_num_overlap]\n",
    "mean_exp_overlap_list = [network_exp_mean_overlap]\n",
    "std_exp_overlap_list = [network_exp_std_overlap]\n",
    "        \n",
    "obs_div_exp_list = np.divide(observed_overlap_list, mean_exp_overlap_list)\n",
    "# change to 95% confidence interval (*1.96 sigma)\n",
    "yerr_lower =  np.subtract(obs_div_exp_list, np.divide(observed_overlap_list,np.add(mean_exp_overlap_list,1.96*np.array(std_exp_overlap_list))))\n",
    "yerr_upper = np.subtract(np.divide(observed_overlap_list,np.subtract(mean_exp_overlap_list,1.96*np.array(std_exp_overlap_list))),obs_div_exp_list)\n",
    "\n",
    "log_yerr_lower = np.subtract(np.log2(obs_div_exp_list),np.log2(np.divide(observed_overlap_list,np.add(mean_exp_overlap_list,2*np.array(std_exp_overlap_list)))))\n",
    "log_yerr_upper = np.subtract(np.log2(np.divide(observed_overlap_list,np.subtract(mean_exp_overlap_list,2*np.array(std_exp_overlap_list)))),np.log2(obs_div_exp_list))\n",
    "\n",
    "log_obs_div_exp=np.log2(obs_div_exp_list)\n",
    "# log_yerr_lower=np.log2(obs_div_exp_lower_list)\n",
    "# log_yerr_upper=np.log2(obs_div_exp_upper_list)\n",
    "\n",
    "network_intersection_df = pd.DataFrame({'name':xlabels,'observed_overlap':observed_overlap_list,\n",
    "                                       'log2_obs_div_exp':log_obs_div_exp,\n",
    "                                       'log2_yerr_lower':log_yerr_lower,\n",
    "                                       'log2_yerr_upper':log_yerr_upper,\n",
    "                                        'obs_div_exp':obs_div_exp_list,\n",
    "                                       'yerr_lower':yerr_lower,\n",
    "                                       'yerr_upper':yerr_upper})\n",
    "network_intersection_df.index=network_intersection_df['name']\n",
    "\n",
    "# sort it \n",
    "network_intersection_df=network_intersection_df.sort_values('obs_div_exp',ascending=False)\n",
    "\n",
    "plt.figure(figsize=(2,3))\n",
    "plt.errorbar(np.arange(len(network_intersection_df)),network_intersection_df['obs_div_exp'],\n",
    "             yerr=[network_intersection_df['yerr_lower'],network_intersection_df['yerr_upper']],\n",
    "             fmt='o',color='k')\n",
    "tmp=plt.xticks(np.arange(len(observed_overlap_list)),network_intersection_df.index.tolist(),fontsize=16,rotation='vertical')\n",
    "plt.ylabel('observed/expected size of network intersection\\n(95% CI)',fontsize=16)\n",
    "#plt.plot([0,len(obs_div_exp_list)],[0,0],'gray','--')\n",
    "plt.hlines(1,xmin=-.5,xmax=len(network_intersection_df),color='gray',linestyles='dashed')\n",
    "# plt.ylim([0.8,1.5])\n",
    "plt.yticks(fontsize=16)\n",
    "plt.xlim([-.5,len(network_intersection_df)-.5])"
   ]
  },
  {
   "cell_type": "markdown",
   "metadata": {},
   "source": [
    "## Output network overlap to NDEx/cytoscape for clustering/annotation\n",
    "\n",
    "----- If a significant overlap is detected: ------\n",
    "\n",
    "Create the network co-localization subgraph, save network to NDEX, then open in Cytoscape for clustering/annotation. (See CDAPS documentation) \n"
   ]
  },
  {
   "cell_type": "code",
   "execution_count": 26,
   "metadata": {},
   "outputs": [
    {
     "name": "stdout",
     "output_type": "stream",
     "text": [
      "318\n",
      "1175\n"
     ]
    }
   ],
   "source": [
    "# select genes in network intersection, make a subgraph\n",
    "\n",
    "G_overlap = network_colocalization.calculate_network_overlap_subgraph(G_int,z_rare['z'],z_common['z'],z_score_threshold=zthresh,\n",
    "                                                                     z1_threshold=1,z2_threshold=1)\n",
    "print(len(G_overlap.nodes()))\n",
    "print(len(G_overlap.edges()))"
   ]
  },
  {
   "cell_type": "code",
   "execution_count": 27,
   "metadata": {},
   "outputs": [
    {
     "data": {
      "text/html": [
       "<div>\n",
       "<style scoped>\n",
       "    .dataframe tbody tr th:only-of-type {\n",
       "        vertical-align: middle;\n",
       "    }\n",
       "\n",
       "    .dataframe tbody tr th {\n",
       "        vertical-align: top;\n",
       "    }\n",
       "\n",
       "    .dataframe thead th {\n",
       "        text-align: right;\n",
       "    }\n",
       "</style>\n",
       "<table border=\"1\" class=\"dataframe\">\n",
       "  <thead>\n",
       "    <tr style=\"text-align: right;\">\n",
       "      <th></th>\n",
       "      <th>ASD_rare_seeds</th>\n",
       "      <th>ASD_common_seeds</th>\n",
       "      <th>z_ASD_rare</th>\n",
       "      <th>z_ASD_common</th>\n",
       "      <th>z_both</th>\n",
       "    </tr>\n",
       "  </thead>\n",
       "  <tbody>\n",
       "    <tr>\n",
       "      <th>C3orf30</th>\n",
       "      <td>0</td>\n",
       "      <td>0</td>\n",
       "      <td>8.118488</td>\n",
       "      <td>3.670031</td>\n",
       "      <td>29.795100</td>\n",
       "    </tr>\n",
       "    <tr>\n",
       "      <th>TRIM23</th>\n",
       "      <td>1</td>\n",
       "      <td>0</td>\n",
       "      <td>8.118488</td>\n",
       "      <td>3.066070</td>\n",
       "      <td>24.891850</td>\n",
       "    </tr>\n",
       "    <tr>\n",
       "      <th>CYTH2</th>\n",
       "      <td>0</td>\n",
       "      <td>0</td>\n",
       "      <td>3.443148</td>\n",
       "      <td>6.429602</td>\n",
       "      <td>22.138073</td>\n",
       "    </tr>\n",
       "    <tr>\n",
       "      <th>KCNMA1</th>\n",
       "      <td>1</td>\n",
       "      <td>0</td>\n",
       "      <td>4.740860</td>\n",
       "      <td>4.211610</td>\n",
       "      <td>19.966650</td>\n",
       "    </tr>\n",
       "    <tr>\n",
       "      <th>POTEB2</th>\n",
       "      <td>0</td>\n",
       "      <td>0</td>\n",
       "      <td>8.118488</td>\n",
       "      <td>2.453641</td>\n",
       "      <td>19.919855</td>\n",
       "    </tr>\n",
       "  </tbody>\n",
       "</table>\n",
       "</div>"
      ],
      "text/plain": [
       "         ASD_rare_seeds  ASD_common_seeds  z_ASD_rare  z_ASD_common     z_both\n",
       "C3orf30               0                 0    8.118488      3.670031  29.795100\n",
       "TRIM23                1                 0    8.118488      3.066070  24.891850\n",
       "CYTH2                 0                 0    3.443148      6.429602  22.138073\n",
       "KCNMA1                1                 0    4.740860      4.211610  19.966650\n",
       "POTEB2                0                 0    8.118488      2.453641  19.919855"
      ]
     },
     "execution_count": 27,
     "metadata": {},
     "output_type": "execute_result"
    }
   ],
   "source": [
    "# compile dataframe of metadata for overlapping nodes\n",
    "node_df = pd.DataFrame(index=list(G_overlap.nodes))\n",
    "node_df[d1+'_seeds']=0\n",
    "node_df[d2+'_seeds']=0\n",
    "node_df[d1+'_seeds'].loc[list(np.intersect1d(seed_dict[d1],node_df.index.tolist()))]=1\n",
    "node_df[d2+'_seeds'].loc[list(np.intersect1d(seed_dict[d2],node_df.index.tolist()))]=1\n",
    "node_df['z_'+d1]=z_rare.loc[list(G_overlap.nodes)]['z']\n",
    "node_df['z_'+d2]=z_common.loc[list(G_overlap.nodes)]['z']\n",
    "node_df['z_both']=node_df['z_'+d1]*node_df['z_'+d2]\n",
    "\n",
    "node_df = node_df.sort_values('z_both',ascending=False)\n",
    "node_df.head()"
   ]
  },
  {
   "cell_type": "markdown",
   "metadata": {},
   "source": [
    "## Annotate network and upload to NDEx\n"
   ]
  },
  {
   "cell_type": "code",
   "execution_count": null,
   "metadata": {},
   "outputs": [
    {
     "name": "stdout",
     "output_type": "stream",
     "text": [
      "318\n",
      "1175\n"
     ]
    }
   ],
   "source": [
    "# ----- a number of properties should be customized here ------\n",
    "\n",
    "#Annotate network\n",
    "print(len(G_overlap.nodes()))\n",
    "print(len(G_overlap.edges()))\n",
    "G_overlap_cx = ndex2.create_nice_cx_from_networkx(G_overlap)\n",
    "G_overlap_cx.set_name('ASD_rare_common_network_temp') \n",
    "for node_id, node in G_overlap_cx.get_nodes():\n",
    "    data = node_df.loc[node['n']]\n",
    "    for row, value in data.items():\n",
    "        if row == 'ASD_rare_seeds' or row == 'ASD_common_seeds':\n",
    "            data_type = 'boolean'\n",
    "            if value == 0:\n",
    "                value = False\n",
    "            else:\n",
    "                value = True\n",
    "        else:\n",
    "            data_type = 'double'\n",
    "        G_overlap_cx.set_node_attribute(node_id, row, value, type=data_type)\n",
    "\n",
    "#Upload to NDEx\n",
    "SERVER = input('NDEx server (probably ndexbio.org): ')\n",
    "USERNAME = input('NDEx user name: ')\n",
    "PASSWORD = getpass.getpass('NDEx password: ')\n",
    "network_uuid = G_overlap_cx.upload_to(SERVER, USERNAME, PASSWORD)"
   ]
  },
  {
   "cell_type": "markdown",
   "metadata": {},
   "source": [
    "# 4. Build multiscale systems map\n",
    "\n",
    "This step performed in Cytoscape\n",
    "\n",
    "https://apps.cytoscape.org/apps/cycommunitydetection\n",
    "\n",
    "Instructions for use available in the manuscript"
   ]
  },
  {
   "cell_type": "code",
   "execution_count": null,
   "metadata": {},
   "outputs": [],
   "source": []
  }
 ],
 "metadata": {
  "kernelspec": {
   "display_name": "Python 3",
   "language": "python",
   "name": "python3"
  },
  "language_info": {
   "codemirror_mode": {
    "name": "ipython",
    "version": 3
   },
   "file_extension": ".py",
   "mimetype": "text/x-python",
   "name": "python",
   "nbconvert_exporter": "python",
   "pygments_lexer": "ipython3",
   "version": "3.8.2"
  }
 },
 "nbformat": 4,
 "nbformat_minor": 4
}
